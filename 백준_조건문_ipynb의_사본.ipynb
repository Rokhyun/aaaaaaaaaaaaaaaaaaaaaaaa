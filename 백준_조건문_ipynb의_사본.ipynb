{
  "nbformat": 4,
  "nbformat_minor": 0,
  "metadata": {
    "colab": {
      "provenance": [],
      "collapsed_sections": [],
      "authorship_tag": "ABX9TyM3pgiNnNCABqZjCOxp0/yS",
      "include_colab_link": true
    },
    "kernelspec": {
      "name": "python3",
      "display_name": "Python 3"
    },
    "language_info": {
      "name": "python"
    }
  },
  "cells": [
    {
      "cell_type": "markdown",
      "metadata": {
        "id": "view-in-github",
        "colab_type": "text"
      },
      "source": [
        "<a href=\"https://colab.research.google.com/github/Rokhyun/aaaaaaaaaaaaaaaaaaaaaaaa/blob/main/%EB%B0%B1%EC%A4%80_%EC%A1%B0%EA%B1%B4%EB%AC%B8_ipynb%EC%9D%98_%EC%82%AC%EB%B3%B8.ipynb\" target=\"_parent\"><img src=\"https://colab.research.google.com/assets/colab-badge.svg\" alt=\"Open In Colab\"/></a>"
      ]
    },
    {
      "cell_type": "code",
      "source": [
        "#9498번-시험 성적\n",
        "score = int(input())\n",
        "\n",
        "if score >= 90:\n",
        "  print(\"A\")\n",
        "elif score >= 80:\n",
        "  print(\"B\")\n",
        "elif score >= 70:\n",
        "  print(\"C\")\n",
        "elif score >= 60:\n",
        "  print(\"D\")\n",
        "else:\n",
        "  print(\"F\")"
      ],
      "metadata": {
        "colab": {
          "base_uri": "https://localhost:8080/"
        },
        "id": "Rp-tGj3Dgc_j",
        "outputId": "c008253a-cdb5-4726-cca7-3551c5bcf925"
      },
      "execution_count": null,
      "outputs": [
        {
          "output_type": "stream",
          "name": "stdout",
          "text": [
            "80\n",
            "B\n"
          ]
        }
      ]
    },
    {
      "cell_type": "code",
      "source": [
        "#2753번-윤년\n",
        "\n",
        "#4의 배수\n",
        "#100의 배수가 아니거나 400의 배수.\n",
        "\n",
        "year = int(input())\n",
        "\n",
        "if ((year%4 == 0)and(year%100 != 0)) or (year%400 == 0):\n",
        "    print('1')\n",
        "else:\n",
        "    print('0')\n"
      ],
      "metadata": {
        "colab": {
          "base_uri": "https://localhost:8080/"
        },
        "id": "ZquZONw3QOTQ",
        "outputId": "e90662bf-caf4-40d8-e8c5-ce511046b1e3"
      },
      "execution_count": null,
      "outputs": [
        {
          "output_type": "stream",
          "name": "stdout",
          "text": [
            "19000\n",
            "0\n"
          ]
        }
      ]
    },
    {
      "cell_type": "code",
      "source": [
        "#14681번-사분면 고르기\n",
        "\n",
        "x = int(input())\n",
        "y = int(input())\n",
        "\n",
        "if x > 0 and y > 0:\n",
        "  print(\"1\")\n",
        "\n",
        "elif x > 0 and y <0:\n",
        "  print(\"4\")\n",
        "\n",
        "elif x < 0 and y >0 :\n",
        "  print(\"2\")\n",
        "\n",
        "elif x < 0 and y < 0:\n",
        "  print(\"3\")\n"
      ],
      "metadata": {
        "colab": {
          "base_uri": "https://localhost:8080/"
        },
        "id": "amj6GAO8Rs0a",
        "outputId": "49d53502-912e-457a-d631-3f33715789ba"
      },
      "execution_count": null,
      "outputs": [
        {
          "output_type": "stream",
          "name": "stdout",
          "text": [
            "9\n",
            "-13\n",
            "4\n"
          ]
        }
      ]
    },
    {
      "cell_type": "code",
      "source": [
        "#2884번 - 알람 시계\n",
        "\n",
        "H, M = map(int, input().split())\n",
        "\n",
        "if M > 44:\n",
        "  print(H,M-45)\n",
        "elif M < 45 and H > 0:\n",
        "  print(H-1, M + 15)\n",
        "else:\n",
        "  print(23,M+15)\n"
      ],
      "metadata": {
        "colab": {
          "base_uri": "https://localhost:8080/"
        },
        "id": "6jZzun7YT_5p",
        "outputId": "6217f141-5a3f-4739-b783-0ad9908dba7e"
      },
      "execution_count": null,
      "outputs": [
        {
          "output_type": "stream",
          "name": "stdout",
          "text": [
            "10 10\n",
            "9 25\n"
          ]
        }
      ]
    },
    {
      "cell_type": "code",
      "source": [
        "#2525번-오븐 시계\n",
        "\n",
        "H, M = map(int, input().split())\n",
        "timer = int(input()) \n",
        "\n",
        "H += timer // 60\n",
        "M += timer % 60\n",
        "\n",
        "if M >= 60:\n",
        "    H += 1\n",
        "    M -= 60\n",
        "if H >= 24:\n",
        "    H -= 24\n",
        "\n",
        "print(H,M)\n",
        " \n",
        " \n",
        "  \n",
        "\n",
        "\n"
      ],
      "metadata": {
        "colab": {
          "base_uri": "https://localhost:8080/"
        },
        "id": "ArGxbouFVFAZ",
        "outputId": "4a9663b3-f7c4-491f-f117-3e4c49ea2ece"
      },
      "execution_count": null,
      "outputs": [
        {
          "name": "stdout",
          "output_type": "stream",
          "text": [
            "23 48\n",
            "25\n"
          ]
        }
      ]
    },
    {
      "cell_type": "code",
      "source": [
        "#2480번-주사위\n",
        "\n",
        "a, b, c = map(int, input().split())\n",
        "\n",
        "if a == b == c:\n",
        "    print(10000+a*1000)\n",
        "elif a == b:\n",
        "    print(1000+a*100)\n",
        "elif a == c:\n",
        "    print(1000+a*100)\n",
        "elif b == c:\n",
        "    print(1000+b*100)\n",
        "else:\n",
        "    print(100 * max(a,b,c))\n",
        "\n",
        "\n"
      ],
      "metadata": {
        "id": "flxPMKHdW6V_",
        "colab": {
          "base_uri": "https://localhost:8080/"
        },
        "outputId": "7db1a208-7f9e-413d-9545-b9c094fda022"
      },
      "execution_count": 11,
      "outputs": [
        {
          "output_type": "stream",
          "name": "stdout",
          "text": [
            "2 2 2\n",
            "12000\n"
          ]
        }
      ]
    },
    {
      "cell_type": "code",
      "source": [],
      "metadata": {
        "id": "qCI7ryOMeGN4"
      },
      "execution_count": null,
      "outputs": []
    }
  ]
}